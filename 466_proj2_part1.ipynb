{
  "nbformat": 4,
  "nbformat_minor": 0,
  "metadata": {
    "colab": {
      "name": "466-proj2-part1.ipynb",
      "provenance": [],
      "collapsed_sections": []
    },
    "kernelspec": {
      "name": "python3",
      "display_name": "Python 3"
    },
    "accelerator": "GPU"
  },
  "cells": [
    {
      "cell_type": "code",
      "metadata": {
        "id": "WgyEVZW4Vax2",
        "colab_type": "code",
        "colab": {
          "base_uri": "https://localhost:8080/",
          "height": 615
        },
        "outputId": "98ea2a67-e252-422d-fd06-c9ca6f1cf479"
      },
      "source": [
        "path = \"drive/My Drive/Colab Notebooks/466-proj2/\"\n",
        "f = open(path + 'readme.txt', 'r')\n",
        "print(f.read())\n",
        "f.close()"
      ],
      "execution_count": 1,
      "outputs": [
        {
          "output_type": "stream",
          "text": [
            "Digital Democracy Data Sets (for Project 2 groups)\n",
            "The ordering for the tsv as well as what each represents (committee_utterance file)\n",
            "\n",
            "1)vid                   - Video Id\n",
            "2)fileid                - YouTube Id\n",
            "3)cid                   - Committee Id\n",
            "4)c_name                - Committee Name\n",
            "5)c_house               - Committee House\n",
            "6)hid                   - Hearing Id\n",
            "7)position              - Order of bills discussed in the hearing/video order\n",
            "8)pid                   - Person Id\n",
            "9)diarization_id        - Id of a speaker given perfect diarization\n",
            "10)last                 - Speaker last name\n",
            "11)first                - Speaker first name\n",
            "12)start                - Start time of utterance\n",
            "13)end                  - End time of utterance\n",
            "14)utterance_order      - Order of the utterance in a given hearing\n",
            "15)text                 - Text of the utterance\n",
            "\n",
            "DDDataSet_3.tsv\n",
            "\n",
            "Use this data set for your baseline machine learning analysis of speaker identification. There are about 10,000 randomly selected utterance records that meet our criteria (legislator only, at least 5 seconds and at least 28 words). \n",
            "It's a tab-separated file withe following fields per line (in order)\n",
            "\n",
            "document id\n",
            "last name\n",
            "first name\n",
            "person id (pid)\n",
            "YouTube ID\n",
            "start time (offset of the video in seconds)\n",
            "end time (offset of the video in seconds)\n",
            "text of the utterance\n",
            "\n",
            "\n"
          ],
          "name": "stdout"
        }
      ]
    },
    {
      "cell_type": "code",
      "metadata": {
        "id": "4xf-KVQIWS3_",
        "colab_type": "code",
        "outputId": "ddaf86a3-145a-4361-e759-a7541bf4ec54",
        "colab": {
          "base_uri": "https://localhost:8080/",
          "height": 589
        }
      },
      "source": [
        "FILE = \"committee_utterances.tsv\"\n",
        "\n",
        "import pandas as pd\n",
        "\n",
        "df = pd.read_csv(path + FILE, sep='\\t')\n",
        "df"
      ],
      "execution_count": 2,
      "outputs": [
        {
          "output_type": "execute_result",
          "data": {
            "text/html": [
              "<div>\n",
              "<style scoped>\n",
              "    .dataframe tbody tr th:only-of-type {\n",
              "        vertical-align: middle;\n",
              "    }\n",
              "\n",
              "    .dataframe tbody tr th {\n",
              "        vertical-align: top;\n",
              "    }\n",
              "\n",
              "    .dataframe thead th {\n",
              "        text-align: right;\n",
              "    }\n",
              "</style>\n",
              "<table border=\"1\" class=\"dataframe\">\n",
              "  <thead>\n",
              "    <tr style=\"text-align: right;\">\n",
              "      <th></th>\n",
              "      <th>vid</th>\n",
              "      <th>fileid</th>\n",
              "      <th>cid</th>\n",
              "      <th>c_name</th>\n",
              "      <th>c_house</th>\n",
              "      <th>hid</th>\n",
              "      <th>position</th>\n",
              "      <th>pid</th>\n",
              "      <th>diarization_id</th>\n",
              "      <th>last</th>\n",
              "      <th>first</th>\n",
              "      <th>start</th>\n",
              "      <th>end</th>\n",
              "      <th>utterance_order</th>\n",
              "      <th>text</th>\n",
              "    </tr>\n",
              "  </thead>\n",
              "  <tbody>\n",
              "    <tr>\n",
              "      <th>0</th>\n",
              "      <td>4527</td>\n",
              "      <td>8xcAFOvPC50</td>\n",
              "      <td>2</td>\n",
              "      <td>Agriculture</td>\n",
              "      <td>Assembly</td>\n",
              "      <td>648</td>\n",
              "      <td>1</td>\n",
              "      <td>95</td>\n",
              "      <td>1</td>\n",
              "      <td>Galgiani</td>\n",
              "      <td>Cathleen</td>\n",
              "      <td>6</td>\n",
              "      <td>24</td>\n",
              "      <td>1</td>\n",
              "      <td>Go ahead and call the hearing to order, our sp...</td>\n",
              "    </tr>\n",
              "    <tr>\n",
              "      <th>1</th>\n",
              "      <td>4527</td>\n",
              "      <td>8xcAFOvPC50</td>\n",
              "      <td>2</td>\n",
              "      <td>Agriculture</td>\n",
              "      <td>Assembly</td>\n",
              "      <td>648</td>\n",
              "      <td>1</td>\n",
              "      <td>95</td>\n",
              "      <td>1</td>\n",
              "      <td>Galgiani</td>\n",
              "      <td>Cathleen</td>\n",
              "      <td>24</td>\n",
              "      <td>41</td>\n",
              "      <td>2</td>\n",
              "      <td>But also to the communities and it's had other...</td>\n",
              "    </tr>\n",
              "    <tr>\n",
              "      <th>2</th>\n",
              "      <td>4527</td>\n",
              "      <td>8xcAFOvPC50</td>\n",
              "      <td>2</td>\n",
              "      <td>Agriculture</td>\n",
              "      <td>Assembly</td>\n",
              "      <td>648</td>\n",
              "      <td>1</td>\n",
              "      <td>95</td>\n",
              "      <td>1</td>\n",
              "      <td>Galgiani</td>\n",
              "      <td>Cathleen</td>\n",
              "      <td>41</td>\n",
              "      <td>56</td>\n",
              "      <td>3</td>\n",
              "      <td>limited water resources are all challenges tha...</td>\n",
              "    </tr>\n",
              "    <tr>\n",
              "      <th>3</th>\n",
              "      <td>4527</td>\n",
              "      <td>8xcAFOvPC50</td>\n",
              "      <td>2</td>\n",
              "      <td>Agriculture</td>\n",
              "      <td>Assembly</td>\n",
              "      <td>648</td>\n",
              "      <td>1</td>\n",
              "      <td>95</td>\n",
              "      <td>1</td>\n",
              "      <td>Galgiani</td>\n",
              "      <td>Cathleen</td>\n",
              "      <td>56</td>\n",
              "      <td>71</td>\n",
              "      <td>4</td>\n",
              "      <td>And we've invited expert witnesses, who'll dis...</td>\n",
              "    </tr>\n",
              "    <tr>\n",
              "      <th>4</th>\n",
              "      <td>4527</td>\n",
              "      <td>8xcAFOvPC50</td>\n",
              "      <td>2</td>\n",
              "      <td>Agriculture</td>\n",
              "      <td>Assembly</td>\n",
              "      <td>648</td>\n",
              "      <td>1</td>\n",
              "      <td>95</td>\n",
              "      <td>1</td>\n",
              "      <td>Galgiani</td>\n",
              "      <td>Cathleen</td>\n",
              "      <td>71</td>\n",
              "      <td>88</td>\n",
              "      <td>5</td>\n",
              "      <td>Drought is certainly a critical issue for Cali...</td>\n",
              "    </tr>\n",
              "    <tr>\n",
              "      <th>...</th>\n",
              "      <td>...</td>\n",
              "      <td>...</td>\n",
              "      <td>...</td>\n",
              "      <td>...</td>\n",
              "      <td>...</td>\n",
              "      <td>...</td>\n",
              "      <td>...</td>\n",
              "      <td>...</td>\n",
              "      <td>...</td>\n",
              "      <td>...</td>\n",
              "      <td>...</td>\n",
              "      <td>...</td>\n",
              "      <td>...</td>\n",
              "      <td>...</td>\n",
              "      <td>...</td>\n",
              "    </tr>\n",
              "    <tr>\n",
              "      <th>30858</th>\n",
              "      <td>2858</td>\n",
              "      <td>nMgNQIdoyHs</td>\n",
              "      <td>148</td>\n",
              "      <td>Public Health and Developmental Services</td>\n",
              "      <td>Senate</td>\n",
              "      <td>497</td>\n",
              "      <td>4</td>\n",
              "      <td>103</td>\n",
              "      <td>1</td>\n",
              "      <td>Hernandez</td>\n",
              "      <td>Ed</td>\n",
              "      <td>1485</td>\n",
              "      <td>1494</td>\n",
              "      <td>555</td>\n",
              "      <td>Current vote count is 9-3, and that bill is ou...</td>\n",
              "    </tr>\n",
              "    <tr>\n",
              "      <th>30859</th>\n",
              "      <td>2858</td>\n",
              "      <td>nMgNQIdoyHs</td>\n",
              "      <td>148</td>\n",
              "      <td>Public Health and Developmental Services</td>\n",
              "      <td>Senate</td>\n",
              "      <td>497</td>\n",
              "      <td>4</td>\n",
              "      <td>2998</td>\n",
              "      <td>4</td>\n",
              "      <td>Secretary</td>\n",
              "      <td>Committee</td>\n",
              "      <td>1494</td>\n",
              "      <td>1498</td>\n",
              "      <td>556</td>\n",
              "      <td>Anderson? Mitchell? (aye) Moorlach?</td>\n",
              "    </tr>\n",
              "    <tr>\n",
              "      <th>30860</th>\n",
              "      <td>2858</td>\n",
              "      <td>nMgNQIdoyHs</td>\n",
              "      <td>148</td>\n",
              "      <td>Public Health and Developmental Services</td>\n",
              "      <td>Senate</td>\n",
              "      <td>497</td>\n",
              "      <td>4</td>\n",
              "      <td>103</td>\n",
              "      <td>1</td>\n",
              "      <td>Hernandez</td>\n",
              "      <td>Ed</td>\n",
              "      <td>1504</td>\n",
              "      <td>1512</td>\n",
              "      <td>557</td>\n",
              "      <td>Current vote count is 9-2. That bill is out. I...</td>\n",
              "    </tr>\n",
              "    <tr>\n",
              "      <th>30861</th>\n",
              "      <td>2858</td>\n",
              "      <td>nMgNQIdoyHs</td>\n",
              "      <td>148</td>\n",
              "      <td>Public Health and Developmental Services</td>\n",
              "      <td>Senate</td>\n",
              "      <td>497</td>\n",
              "      <td>4</td>\n",
              "      <td>2998</td>\n",
              "      <td>4</td>\n",
              "      <td>Secretary</td>\n",
              "      <td>Committee</td>\n",
              "      <td>1512</td>\n",
              "      <td>1521</td>\n",
              "      <td>558</td>\n",
              "      <td>Morrell? (no) Anderson? Mitchell? (aye) 9-3.</td>\n",
              "    </tr>\n",
              "    <tr>\n",
              "      <th>30862</th>\n",
              "      <td>2858</td>\n",
              "      <td>nMgNQIdoyHs</td>\n",
              "      <td>148</td>\n",
              "      <td>Public Health and Developmental Services</td>\n",
              "      <td>Senate</td>\n",
              "      <td>497</td>\n",
              "      <td>4</td>\n",
              "      <td>103</td>\n",
              "      <td>1</td>\n",
              "      <td>Hernandez</td>\n",
              "      <td>Ed</td>\n",
              "      <td>1521</td>\n",
              "      <td>1529</td>\n",
              "      <td>559</td>\n",
              "      <td>Current vote count is 9-3, that bill is out. T...</td>\n",
              "    </tr>\n",
              "  </tbody>\n",
              "</table>\n",
              "<p>30863 rows × 15 columns</p>\n",
              "</div>"
            ],
            "text/plain": [
              "        vid  ...                                               text\n",
              "0      4527  ...  Go ahead and call the hearing to order, our sp...\n",
              "1      4527  ...  But also to the communities and it's had other...\n",
              "2      4527  ...  limited water resources are all challenges tha...\n",
              "3      4527  ...  And we've invited expert witnesses, who'll dis...\n",
              "4      4527  ...  Drought is certainly a critical issue for Cali...\n",
              "...     ...  ...                                                ...\n",
              "30858  2858  ...  Current vote count is 9-3, and that bill is ou...\n",
              "30859  2858  ...                Anderson? Mitchell? (aye) Moorlach?\n",
              "30860  2858  ...  Current vote count is 9-2. That bill is out. I...\n",
              "30861  2858  ...       Morrell? (no) Anderson? Mitchell? (aye) 9-3.\n",
              "30862  2858  ...  Current vote count is 9-3, that bill is out. T...\n",
              "\n",
              "[30863 rows x 15 columns]"
            ]
          },
          "metadata": {
            "tags": []
          },
          "execution_count": 2
        }
      ]
    },
    {
      "cell_type": "code",
      "metadata": {
        "id": "_ydIUy0B8x0n",
        "colab_type": "code",
        "outputId": "4dbea8e4-516f-4c11-a879-e8394dcd4d8b",
        "colab": {
          "base_uri": "https://localhost:8080/",
          "height": 34
        }
      },
      "source": [
        "#Select a random 25% (1/4) of the content\n",
        "import random\n",
        "from pprint import pprint\n",
        "\n",
        "records = list(df.text)\n",
        "number_selected = len(records) // 1000  #TODO CHANGE THIS VALUE TO 4\n",
        "selected_records = random.sample(records, number_selected) #get random sample of number_selected records without replacement\n",
        "\n",
        "utterances = [record for record in selected_records] #get all the utterance fields only (column #15) for clustering\n",
        "print(\"total number of points:\",len(utterances))"
      ],
      "execution_count": 91,
      "outputs": [
        {
          "output_type": "stream",
          "text": [
            "total number of points: 30\n"
          ],
          "name": "stdout"
        }
      ]
    },
    {
      "cell_type": "code",
      "metadata": {
        "id": "b6vTjIgMv9mL",
        "colab_type": "code",
        "outputId": "9a924159-918b-4abb-cf96-fd7c4d274f4b",
        "colab": {
          "base_uri": "https://localhost:8080/",
          "height": 187
        }
      },
      "source": [
        "import nltk\n",
        "from nltk.stem import WordNetLemmatizer\n",
        "from nltk.tokenize import sent_tokenize, word_tokenize\n",
        "from nltk.corpus import stopwords \n",
        "from nltk.corpus import wordnet \n",
        "nltk.download('stopwords')\n",
        "nltk.download('punkt')\n",
        "nltk.download('wordnet')\n",
        "nltk.download('averaged_perceptron_tagger')\n",
        "\n",
        "wordnet_lemmatizer = WordNetLemmatizer()\n",
        "stop_words = set(stopwords.words('english')) \n",
        "punctuation = \"-!?;:\\\"\\'.,\"\n",
        "\n",
        "def getPOS(word):\n",
        "    \"\"\"Map POS tag to first character lemmatize() accepts\"\"\"\n",
        "    tag = nltk.pos_tag([word])[0][1][0].upper()\n",
        "    tag_dict = {\"J\": wordnet.ADJ,\n",
        "                \"N\": wordnet.NOUN,\n",
        "                \"V\": wordnet.VERB,\n",
        "                \"R\": wordnet.ADV}\n",
        "\n",
        "    return tag_dict.get(tag, wordnet.NOUN)\n",
        "\n",
        "def getFeatures(text):\n",
        "    features = {}\n",
        "    tokens = nltk.word_tokenize(text.lower())\n",
        "    tot_cnt = len(tokens)\n",
        "    for word in tokens:        \n",
        "        if word.isnumeric():\n",
        "            label = '[NUMBER]'\n",
        "            if label not in features:\n",
        "                features[label] = 1/float(tot_cnt)    \n",
        "            else:\n",
        "                features[label] += 1/float(tot_cnt)    \n",
        "        elif word not in stop_words and word not in punctuation:\n",
        "            w = wordnet_lemmatizer.lemmatize(word, getPOS(word))\n",
        "            if w not in features:\n",
        "                features[w] = 1/float(tot_cnt)\n",
        "            else:\n",
        "                features[w] += 1/float(tot_cnt)\n",
        "    return features\n"
      ],
      "execution_count": 106,
      "outputs": [
        {
          "output_type": "stream",
          "text": [
            "[nltk_data] Downloading package stopwords to /root/nltk_data...\n",
            "[nltk_data]   Package stopwords is already up-to-date!\n",
            "[nltk_data] Downloading package punkt to /root/nltk_data...\n",
            "[nltk_data]   Package punkt is already up-to-date!\n",
            "[nltk_data] Downloading package wordnet to /root/nltk_data...\n",
            "[nltk_data]   Package wordnet is already up-to-date!\n",
            "[nltk_data] Downloading package averaged_perceptron_tagger to\n",
            "[nltk_data]     /root/nltk_data...\n",
            "[nltk_data]   Package averaged_perceptron_tagger is already up-to-\n",
            "[nltk_data]       date!\n"
          ],
          "name": "stdout"
        }
      ]
    },
    {
      "cell_type": "code",
      "metadata": {
        "id": "vvjVUJ-1B0Yt",
        "colab_type": "code",
        "colab": {}
      },
      "source": [
        "import numpy as np\n",
        "import random, sys, copy\n",
        "from collections import Counter\n",
        "\n",
        "max_t = 3   # max itterations (ignores threshold) (-1 to unset)10\n",
        "M = []\n",
        "M.append([0 for i in range(0, k)])\n",
        "\n",
        "def initCentroids(vec_data, k):\n",
        "    centroidID = np.random.permutation(len(vec_data))[:k]\n",
        "    print(centroidID)\n",
        "    return [vec_data[cID] for cID in centroidID]\n",
        "\n",
        "def calculateDistance(v_dict, u_dict):\n",
        "    v = list(v_dict.values())\n",
        "    u = list(u_dict.values())\n",
        "    total = 0\n",
        "    for i in range(0, len(v)):\n",
        "        total += ((v[i] - u[i]) ** 2)\n",
        "    return np.sqrt(total)\n",
        "\n",
        "\n",
        "# takes a vector dictionary and a set of all the keys\n",
        "# returns a new vector dictionary with all the keys\n",
        "def reshapeVectDict(vect_dict, keys):\n",
        "    result = copy.deepcopy(vect_dict)\n",
        "    for key in keys:\n",
        "        if key not in result:\n",
        "            result[key] = 0.0\n",
        "    return result\n",
        "\n",
        "# For a given point, find the closest centroid from the list, return centroid's index\n",
        "def closestCentroid(point, k, data):\n",
        "    # Get all the keys (words) in the point and centroids\n",
        "    # This will be used to transform them to the same dimension so we can do math\n",
        "    all_keys = []\n",
        "    all_keys.extend(point)        \n",
        "    for cID in range(0,k):        \n",
        "        all_keys.extend(data[cID].keys())\n",
        "    all_keys = set(all_keys)\n",
        "\n",
        "    closestCentroid = 0\n",
        "    minDist = sys.maxsize\n",
        "    point_reshape = reshapeVectDict(point, all_keys)\n",
        "\n",
        "    # print()\n",
        "    # print(\"point: \", point_reshape)\n",
        "    for cID in range(0,k):\n",
        "        centroid = data[cID]\n",
        "        centroid_reshape = reshapeVectDict(centroid, all_keys)\n",
        "        dist = calculateDistance(point_reshape, centroid_reshape)\n",
        "\n",
        "        # print(\"dist: \", dist, \"centroid: \", centroid)\n",
        "        if (dist < minDist):\n",
        "            minDist = dist          \n",
        "            closestCentroid = cID\n",
        "\n",
        "    # print(\"closestCentroid: \", closestCentroid, \"minDist: \", minDist)\n",
        "    return closestCentroid\n",
        "\n",
        "def recalculateCentroid(cluster, data):\n",
        "    new_centroid = {}\n",
        "    for idx in cluster:\n",
        "        point = data[idx]\n",
        "        new_centroid = dict(Counter(new_centroid) + Counter(point))\n",
        "\n",
        "    for key in new_centroid:\n",
        "        new_centroid[key] /= len(cluster)\n",
        "    # print(\"new_centroid: \", new_centroid)\n",
        "    return new_centroid\n",
        "\n",
        "def k_means(vec_data, k, e):\n",
        "    t = 0\n",
        "    M[t] = initCentroids(vec_data, k)\n",
        "\n",
        "    if max_t >= 0:        \n",
        "        while (t < max_t):\n",
        "            print(\"iteration: \", t)\n",
        "            t += 1\n",
        "            M.append([0 for i in range(0, k)])    # M needs t rows\n",
        "            C = []\n",
        "            for i in range(0, k):\n",
        "                C.append([])\n",
        "            # Centroid assignment\n",
        "            for point in vec_data:\n",
        "                clusterID = closestCentroid(point, k, M[t-1])                \n",
        "                C[clusterID].append(vec_data.index(point))    # keep track of the point's as indices\n",
        "            print(len(C), C)\n",
        "            \n",
        "            # Centroid update\n",
        "            for i in range(0, k):\n",
        "                new_centroid = recalculateCentroid(C[i], vec_data)\n",
        "                M[t][i] = new_centroid"
      ],
      "execution_count": 0,
      "outputs": []
    },
    {
      "cell_type": "code",
      "metadata": {
        "id": "kHkwNOpxUzn2",
        "colab_type": "code",
        "colab": {
          "base_uri": "https://localhost:8080/",
          "height": 646
        },
        "outputId": "3137b5fb-ad21-4f54-81b7-f5abf1d51441"
      },
      "source": [
        "k = 3\n",
        "centroids = initCentroids(vec_data, k)\n",
        "centroids"
      ],
      "execution_count": 125,
      "outputs": [
        {
          "output_type": "stream",
          "text": [
            "[22 11  8]\n"
          ],
          "name": "stdout"
        },
        {
          "output_type": "execute_result",
          "data": {
            "text/plain": [
              "[{'21st': 0.034482758620689655,\n",
              "  'ago': 0.034482758620689655,\n",
              "  'century': 0.034482758620689655,\n",
              "  'decade': 0.034482758620689655,\n",
              "  'design': 0.034482758620689655,\n",
              "  'fair': 0.034482758620689655,\n",
              "  'many': 0.034482758620689655,\n",
              "  'obviously': 0.034482758620689655,\n",
              "  'program': 0.034482758620689655,\n",
              "  'question': 0.034482758620689655,\n",
              "  'suitable': 0.034482758620689655,\n",
              "  'whether': 0.034482758620689655,\n",
              "  'year': 0.034482758620689655},\n",
              " {\"'s\": 0.05555555555555555,\n",
              "  'bank': 0.05555555555555555,\n",
              "  'big': 0.027777777777777776,\n",
              "  'concern': 0.027777777777777776,\n",
              "  'cost': 0.027777777777777776,\n",
              "  'get': 0.027777777777777776,\n",
              "  'go': 0.027777777777777776,\n",
              "  'know': 0.027777777777777776,\n",
              "  'loan': 0.027777777777777776,\n",
              "  'money': 0.027777777777777776,\n",
              "  \"n't\": 0.027777777777777776,\n",
              "  'true': 0.027777777777777776},\n",
              " {\"'s\": 0.045454545454545456,\n",
              "  '987.': 0.045454545454545456,\n",
              "  '[NUMBER]': 0.09090909090909091,\n",
              "  'ab': 0.045454545454545456,\n",
              "  'clerk': 0.045454545454545456,\n",
              "  'file': 0.09090909090909091,\n",
              "  'item': 0.09090909090909091,\n",
              "  'move': 0.045454545454545456,\n",
              "  'pas': 0.045454545454545456,\n",
              "  'read': 0.045454545454545456,\n",
              "  'retain': 0.045454545454545456}]"
            ]
          },
          "metadata": {
            "tags": []
          },
          "execution_count": 125
        }
      ]
    },
    {
      "cell_type": "code",
      "metadata": {
        "id": "YZENnypuZUok",
        "colab_type": "code",
        "colab": {
          "base_uri": "https://localhost:8080/",
          "height": 649
        },
        "outputId": "c585f421-b603-4e17-9e15-c2a67f500dbe"
      },
      "source": [
        "recalculateCentroid([22, 11, 8], vec_data)"
      ],
      "execution_count": 132,
      "outputs": [
        {
          "output_type": "stream",
          "text": [
            "new_centroid:  {'whether': 0.011494252873563218, 'program': 0.011494252873563218, 'obviously': 0.011494252873563218, 'design': 0.011494252873563218, 'many': 0.011494252873563218, 'year': 0.011494252873563218, 'decade': 0.011494252873563218, 'ago': 0.011494252873563218, 'suitable': 0.011494252873563218, '21st': 0.011494252873563218, 'century': 0.011494252873563218, 'fair': 0.011494252873563218, 'question': 0.011494252873563218, 'cost': 0.009259259259259259, 'true': 0.009259259259259259, \"'s\": 0.03367003367003367, 'get': 0.009259259259259259, 'go': 0.009259259259259259, 'bank': 0.018518518518518517, 'loan': 0.009259259259259259, 'money': 0.009259259259259259, \"n't\": 0.009259259259259259, 'know': 0.009259259259259259, 'big': 0.009259259259259259, 'concern': 0.009259259259259259, 'file': 0.030303030303030304, 'item': 0.030303030303030304, '[NUMBER]': 0.030303030303030304, 'pas': 0.015151515151515152, 'retain': 0.015151515151515152, 'move': 0.015151515151515152, 'ab': 0.015151515151515152, '987.': 0.015151515151515152, 'clerk': 0.015151515151515152, 'read': 0.015151515151515152}\n"
          ],
          "name": "stdout"
        },
        {
          "output_type": "execute_result",
          "data": {
            "text/plain": [
              "{\"'s\": 0.03367003367003367,\n",
              " '21st': 0.011494252873563218,\n",
              " '987.': 0.015151515151515152,\n",
              " '[NUMBER]': 0.030303030303030304,\n",
              " 'ab': 0.015151515151515152,\n",
              " 'ago': 0.011494252873563218,\n",
              " 'bank': 0.018518518518518517,\n",
              " 'big': 0.009259259259259259,\n",
              " 'century': 0.011494252873563218,\n",
              " 'clerk': 0.015151515151515152,\n",
              " 'concern': 0.009259259259259259,\n",
              " 'cost': 0.009259259259259259,\n",
              " 'decade': 0.011494252873563218,\n",
              " 'design': 0.011494252873563218,\n",
              " 'fair': 0.011494252873563218,\n",
              " 'file': 0.030303030303030304,\n",
              " 'get': 0.009259259259259259,\n",
              " 'go': 0.009259259259259259,\n",
              " 'item': 0.030303030303030304,\n",
              " 'know': 0.009259259259259259,\n",
              " 'loan': 0.009259259259259259,\n",
              " 'many': 0.011494252873563218,\n",
              " 'money': 0.009259259259259259,\n",
              " 'move': 0.015151515151515152,\n",
              " \"n't\": 0.009259259259259259,\n",
              " 'obviously': 0.011494252873563218,\n",
              " 'pas': 0.015151515151515152,\n",
              " 'program': 0.011494252873563218,\n",
              " 'question': 0.011494252873563218,\n",
              " 'read': 0.015151515151515152,\n",
              " 'retain': 0.015151515151515152,\n",
              " 'suitable': 0.011494252873563218,\n",
              " 'true': 0.009259259259259259,\n",
              " 'whether': 0.011494252873563218,\n",
              " 'year': 0.011494252873563218}"
            ]
          },
          "metadata": {
            "tags": []
          },
          "execution_count": 132
        }
      ]
    },
    {
      "cell_type": "code",
      "metadata": {
        "id": "JyvDzNBVXIl5",
        "colab_type": "code",
        "colab": {
          "base_uri": "https://localhost:8080/",
          "height": 156
        },
        "outputId": "92e99411-ec64-496e-ded1-3178ad43482c"
      },
      "source": [
        "closestCentroid(vec_data[0], k, centroids)"
      ],
      "execution_count": 128,
      "outputs": [
        {
          "output_type": "stream",
          "text": [
            "\n",
            "point:  {'thank': 0.06666666666666667, 'witness': 0.06666666666666667, 'opposition': 0.06666666666666667, 'measure': 0.06666666666666667, 'say': 0.06666666666666667, 'none': 0.06666666666666667, 'finance': 0.06666666666666667, 'read': 0.0, 'go': 0.0, 'century': 0.0, 'ab': 0.0, 'bank': 0.0, '21st': 0.0, 'money': 0.0, 'obviously': 0.0, 'year': 0.0, 'decade': 0.0, 'question': 0.0, 'move': 0.0, 'many': 0.0, \"n't\": 0.0, 'cost': 0.0, 'ago': 0.0, 'item': 0.0, 'concern': 0.0, '[NUMBER]': 0.0, 'get': 0.0, 'retain': 0.0, 'file': 0.0, 'pas': 0.0, '987.': 0.0, 'loan': 0.0, \"'s\": 0.0, 'fair': 0.0, 'program': 0.0, 'whether': 0.0, 'true': 0.0, 'suitable': 0.0, 'big': 0.0, 'know': 0.0, 'design': 0.0, 'clerk': 0.0}\n",
            "dist:  0.11993744791490188 centroid:  {'whether': 0.034482758620689655, 'program': 0.034482758620689655, 'obviously': 0.034482758620689655, 'design': 0.034482758620689655, 'many': 0.034482758620689655, 'year': 0.034482758620689655, 'decade': 0.034482758620689655, 'ago': 0.034482758620689655, 'suitable': 0.034482758620689655, '21st': 0.034482758620689655, 'century': 0.034482758620689655, 'fair': 0.034482758620689655, 'question': 0.034482758620689655}\n",
            "dist:  0.10801234497346433 centroid:  {'cost': 0.027777777777777776, 'true': 0.027777777777777776, \"'s\": 0.05555555555555555, 'get': 0.027777777777777776, 'go': 0.027777777777777776, 'bank': 0.05555555555555555, 'loan': 0.027777777777777776, 'money': 0.027777777777777776, \"n't\": 0.027777777777777776, 'know': 0.027777777777777776, 'big': 0.027777777777777776, 'concern': 0.027777777777777776}\n",
            "dist:  0.10875368754500825 centroid:  {'file': 0.09090909090909091, 'item': 0.09090909090909091, '[NUMBER]': 0.09090909090909091, 'pas': 0.045454545454545456, 'retain': 0.045454545454545456, 'move': 0.045454545454545456, \"'s\": 0.045454545454545456, 'ab': 0.045454545454545456, '987.': 0.045454545454545456, 'clerk': 0.045454545454545456, 'read': 0.045454545454545456}\n",
            "closestCentroid:  1 minDist:  0.10801234497346433\n"
          ],
          "name": "stdout"
        },
        {
          "output_type": "execute_result",
          "data": {
            "text/plain": [
              "1"
            ]
          },
          "metadata": {
            "tags": []
          },
          "execution_count": 128
        }
      ]
    },
    {
      "cell_type": "code",
      "metadata": {
        "id": "lZ3OgENFOWNu",
        "colab_type": "code",
        "colab": {}
      },
      "source": [
        "data = selected_records\n",
        "vec_data = [getFeatures(text) for text in data]\n",
        "print(len(vec_data))\n",
        "vec_data"
      ],
      "execution_count": 0,
      "outputs": []
    },
    {
      "cell_type": "code",
      "metadata": {
        "id": "VZwBUJtFQ1mQ",
        "colab_type": "code",
        "outputId": "c6bf0e4e-5f45-48aa-9b2c-56820a35de5e",
        "colab": {
          "base_uri": "https://localhost:8080/",
          "height": 153
        }
      },
      "source": [
        "import time\n",
        "\n",
        "startTime = time.time()\n",
        "endTime = time.time()\n",
        "\n",
        "k_means(vec_data, 3, 1)\n",
        "\n",
        "print(round(endTime - startTime,3),'seconds')"
      ],
      "execution_count": 140,
      "outputs": [
        {
          "output_type": "stream",
          "text": [
            "[ 5 23 13]\n",
            "iteration:  0\n",
            "3 [[3, 4, 5, 10, 11, 14, 15, 17, 22, 24, 28], [12, 16, 18, 19, 20, 23, 26, 29], [0, 1, 2, 6, 7, 8, 9, 13, 21, 25, 27]]\n",
            "iteration:  1\n",
            "3 [[], [4, 5, 10, 12, 13, 16, 18, 19, 20, 23, 26, 29], [0, 1, 2, 3, 6, 7, 8, 9, 11, 14, 15, 17, 21, 22, 24, 25, 27, 28]]\n",
            "iteration:  2\n",
            "3 [[], [3, 4, 5, 12, 15, 16, 18, 19, 20, 23, 24, 26, 28, 29], [0, 1, 2, 6, 7, 8, 9, 10, 11, 13, 14, 17, 21, 22, 25, 27]]\n",
            "0.0 seconds\n"
          ],
          "name": "stdout"
        }
      ]
    },
    {
      "cell_type": "code",
      "metadata": {
        "id": "6rJ6DP1OSnTo",
        "colab_type": "code",
        "outputId": "f55cc680-c7a2-49f1-e337-2a62e12c62b5",
        "colab": {
          "base_uri": "https://localhost:8080/",
          "height": 34
        }
      },
      "source": [
        "# M holds the centroid IDs\n",
        "M"
      ],
      "execution_count": 12,
      "outputs": [
        {
          "output_type": "execute_result",
          "data": {
            "text/plain": [
              "[[67, 44], [0, 0], [0, 0]]"
            ]
          },
          "metadata": {
            "tags": []
          },
          "execution_count": 12
        }
      ]
    },
    {
      "cell_type": "code",
      "metadata": {
        "id": "yUHWm9CeJiSJ",
        "colab_type": "code",
        "colab": {
          "base_uri": "https://localhost:8080/",
          "height": 88
        },
        "outputId": "f66cc404-4733-4a6d-f8b9-3b628691cf4b"
      },
      "source": [
        "print(len(vec_data[0]), vec_data[0])\n",
        "print(len(vec_data[1]), vec_data[1])\n",
        "new_d = recalculateCentroid([0,1], vec_data)\n",
        "print(len(new_d), new_d)"
      ],
      "execution_count": 49,
      "outputs": [
        {
          "output_type": "stream",
          "text": [
            "30 {'thank': 0.016129032258064516, 'much': 0.016129032258064516, 'would': 0.016129032258064516, 'like': 0.016129032258064516, 'say': 0.016129032258064516, 'recognize': 0.016129032258064516, 'critical': 0.016129032258064516, 'initial': 0.016129032258064516, 'step': 0.016129032258064516, 'take': 0.016129032258064516, 'tackle': 0.016129032258064516, 'issue': 0.016129032258064516, 'appreciate': 0.016129032258064516, 'finalize': 0.016129032258064516, 'data': 0.04838709677419355, 'share': 0.016129032258064516, 'agreement': 0.016129032258064516, 'systematically': 0.016129032258064516, 'review': 0.016129032258064516, 'identify': 0.016129032258064516, 'course': 0.016129032258064516, 'action': 0.016129032258064516, 'base': 0.016129032258064516, 'really': 0.016129032258064516, 'help': 0.016129032258064516, 'ensure': 0.016129032258064516, 'foster': 0.016129032258064516, 'kid': 0.016129032258064516, 'inappropriately': 0.016129032258064516, 'medicate': 0.016129032258064516}\n",
            "13 {'jennifer': 0.03571428571428571, 'gabales': 0.03571428571428571, 'california': 0.03571428571428571, 'association': 0.03571428571428571, 'health': 0.03571428571428571, 'plan': 0.03571428571428571, 'also': 0.03571428571428571, 'grateful': 0.03571428571428571, 'hard': 0.03571428571428571, 'work': 0.03571428571428571, 'bill': 0.03571428571428571, 'remove': 0.03571428571428571, 'opposition': 0.03571428571428571}\n",
            "43 Counter({'data': 0.024193548387096774, 'jennifer': 0.017857142857142856, 'gabales': 0.017857142857142856, 'california': 0.017857142857142856, 'association': 0.017857142857142856, 'health': 0.017857142857142856, 'plan': 0.017857142857142856, 'also': 0.017857142857142856, 'grateful': 0.017857142857142856, 'hard': 0.017857142857142856, 'work': 0.017857142857142856, 'bill': 0.017857142857142856, 'remove': 0.017857142857142856, 'opposition': 0.017857142857142856, 'thank': 0.008064516129032258, 'much': 0.008064516129032258, 'would': 0.008064516129032258, 'like': 0.008064516129032258, 'say': 0.008064516129032258, 'recognize': 0.008064516129032258, 'critical': 0.008064516129032258, 'initial': 0.008064516129032258, 'step': 0.008064516129032258, 'take': 0.008064516129032258, 'tackle': 0.008064516129032258, 'issue': 0.008064516129032258, 'appreciate': 0.008064516129032258, 'finalize': 0.008064516129032258, 'share': 0.008064516129032258, 'agreement': 0.008064516129032258, 'systematically': 0.008064516129032258, 'review': 0.008064516129032258, 'identify': 0.008064516129032258, 'course': 0.008064516129032258, 'action': 0.008064516129032258, 'base': 0.008064516129032258, 'really': 0.008064516129032258, 'help': 0.008064516129032258, 'ensure': 0.008064516129032258, 'foster': 0.008064516129032258, 'kid': 0.008064516129032258, 'inappropriately': 0.008064516129032258, 'medicate': 0.008064516129032258})\n"
          ],
          "name": "stdout"
        }
      ]
    },
    {
      "cell_type": "code",
      "metadata": {
        "id": "fMLpgq4xKvLz",
        "colab_type": "code",
        "colab": {
          "base_uri": "https://localhost:8080/",
          "height": 51
        },
        "outputId": "2dc08e01-8fcb-4af7-92af-939cc06b58ef"
      },
      "source": [
        "dict1 = {'a':0, 'b':0}\n",
        "dict2 = dict1\n",
        "dict2['a'] += 1\n",
        "\n",
        "print(\"dict1: \", dict1)\n",
        "print(\"dict2: \", dict2)"
      ],
      "execution_count": 40,
      "outputs": [
        {
          "output_type": "stream",
          "text": [
            "dict1:  {'a': 1, 'b': 0}\n",
            "dict2:  {'a': 1, 'b': 0}\n"
          ],
          "name": "stdout"
        }
      ]
    }
  ]
}