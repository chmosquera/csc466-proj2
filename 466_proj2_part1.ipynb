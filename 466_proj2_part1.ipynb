{
  "nbformat": 4,
  "nbformat_minor": 0,
  "metadata": {
    "colab": {
      "name": "466-proj2-part1.ipynb",
      "provenance": [],
      "collapsed_sections": []
    },
    "kernelspec": {
      "name": "python3",
      "display_name": "Python 3"
    }
  },
  "cells": [
    {
      "cell_type": "code",
      "metadata": {
        "id": "WgyEVZW4Vax2",
        "colab_type": "code",
        "colab": {}
      },
      "source": [
        "path = \"drive/My Drive/Colab Notebooks/466-proj2/\"\n",
        "f = open(path + 'readme.txt', 'r')\n",
        "print(f.read())\n",
        "f.close()"
      ],
      "execution_count": 0,
      "outputs": []
    },
    {
      "cell_type": "code",
      "metadata": {
        "id": "4xf-KVQIWS3_",
        "colab_type": "code",
        "outputId": "12cf1869-c7ab-4a4d-c6ed-e780101fa93f",
        "colab": {
          "base_uri": "https://localhost:8080/",
          "height": 419
        }
      },
      "source": [
        "FILE = \"committee_utterances.tsv\"\n",
        "\n",
        "import pandas as pd\n",
        "\n",
        "df = pd.read_csv(path + FILE, sep='\\t')\n",
        "df"
      ],
      "execution_count": 2,
      "outputs": [
        {
          "output_type": "execute_result",
          "data": {
            "text/html": [
              "<div>\n",
              "<style scoped>\n",
              "    .dataframe tbody tr th:only-of-type {\n",
              "        vertical-align: middle;\n",
              "    }\n",
              "\n",
              "    .dataframe tbody tr th {\n",
              "        vertical-align: top;\n",
              "    }\n",
              "\n",
              "    .dataframe thead th {\n",
              "        text-align: right;\n",
              "    }\n",
              "</style>\n",
              "<table border=\"1\" class=\"dataframe\">\n",
              "  <thead>\n",
              "    <tr style=\"text-align: right;\">\n",
              "      <th></th>\n",
              "      <th>vid</th>\n",
              "      <th>fileid</th>\n",
              "      <th>cid</th>\n",
              "      <th>c_name</th>\n",
              "      <th>c_house</th>\n",
              "      <th>hid</th>\n",
              "      <th>position</th>\n",
              "      <th>pid</th>\n",
              "      <th>diarization_id</th>\n",
              "      <th>last</th>\n",
              "      <th>first</th>\n",
              "      <th>start</th>\n",
              "      <th>end</th>\n",
              "      <th>utterance_order</th>\n",
              "      <th>text</th>\n",
              "    </tr>\n",
              "  </thead>\n",
              "  <tbody>\n",
              "    <tr>\n",
              "      <th>0</th>\n",
              "      <td>4527</td>\n",
              "      <td>8xcAFOvPC50</td>\n",
              "      <td>2</td>\n",
              "      <td>Agriculture</td>\n",
              "      <td>Assembly</td>\n",
              "      <td>648</td>\n",
              "      <td>1</td>\n",
              "      <td>95</td>\n",
              "      <td>1</td>\n",
              "      <td>Galgiani</td>\n",
              "      <td>Cathleen</td>\n",
              "      <td>6</td>\n",
              "      <td>24</td>\n",
              "      <td>1</td>\n",
              "      <td>Go ahead and call the hearing to order, our sp...</td>\n",
              "    </tr>\n",
              "    <tr>\n",
              "      <th>1</th>\n",
              "      <td>4527</td>\n",
              "      <td>8xcAFOvPC50</td>\n",
              "      <td>2</td>\n",
              "      <td>Agriculture</td>\n",
              "      <td>Assembly</td>\n",
              "      <td>648</td>\n",
              "      <td>1</td>\n",
              "      <td>95</td>\n",
              "      <td>1</td>\n",
              "      <td>Galgiani</td>\n",
              "      <td>Cathleen</td>\n",
              "      <td>24</td>\n",
              "      <td>41</td>\n",
              "      <td>2</td>\n",
              "      <td>But also to the communities and it's had other...</td>\n",
              "    </tr>\n",
              "    <tr>\n",
              "      <th>2</th>\n",
              "      <td>4527</td>\n",
              "      <td>8xcAFOvPC50</td>\n",
              "      <td>2</td>\n",
              "      <td>Agriculture</td>\n",
              "      <td>Assembly</td>\n",
              "      <td>648</td>\n",
              "      <td>1</td>\n",
              "      <td>95</td>\n",
              "      <td>1</td>\n",
              "      <td>Galgiani</td>\n",
              "      <td>Cathleen</td>\n",
              "      <td>41</td>\n",
              "      <td>56</td>\n",
              "      <td>3</td>\n",
              "      <td>limited water resources are all challenges tha...</td>\n",
              "    </tr>\n",
              "    <tr>\n",
              "      <th>3</th>\n",
              "      <td>4527</td>\n",
              "      <td>8xcAFOvPC50</td>\n",
              "      <td>2</td>\n",
              "      <td>Agriculture</td>\n",
              "      <td>Assembly</td>\n",
              "      <td>648</td>\n",
              "      <td>1</td>\n",
              "      <td>95</td>\n",
              "      <td>1</td>\n",
              "      <td>Galgiani</td>\n",
              "      <td>Cathleen</td>\n",
              "      <td>56</td>\n",
              "      <td>71</td>\n",
              "      <td>4</td>\n",
              "      <td>And we've invited expert witnesses, who'll dis...</td>\n",
              "    </tr>\n",
              "    <tr>\n",
              "      <th>4</th>\n",
              "      <td>4527</td>\n",
              "      <td>8xcAFOvPC50</td>\n",
              "      <td>2</td>\n",
              "      <td>Agriculture</td>\n",
              "      <td>Assembly</td>\n",
              "      <td>648</td>\n",
              "      <td>1</td>\n",
              "      <td>95</td>\n",
              "      <td>1</td>\n",
              "      <td>Galgiani</td>\n",
              "      <td>Cathleen</td>\n",
              "      <td>71</td>\n",
              "      <td>88</td>\n",
              "      <td>5</td>\n",
              "      <td>Drought is certainly a critical issue for Cali...</td>\n",
              "    </tr>\n",
              "    <tr>\n",
              "      <th>...</th>\n",
              "      <td>...</td>\n",
              "      <td>...</td>\n",
              "      <td>...</td>\n",
              "      <td>...</td>\n",
              "      <td>...</td>\n",
              "      <td>...</td>\n",
              "      <td>...</td>\n",
              "      <td>...</td>\n",
              "      <td>...</td>\n",
              "      <td>...</td>\n",
              "      <td>...</td>\n",
              "      <td>...</td>\n",
              "      <td>...</td>\n",
              "      <td>...</td>\n",
              "      <td>...</td>\n",
              "    </tr>\n",
              "    <tr>\n",
              "      <th>30858</th>\n",
              "      <td>2858</td>\n",
              "      <td>nMgNQIdoyHs</td>\n",
              "      <td>148</td>\n",
              "      <td>Public Health and Developmental Services</td>\n",
              "      <td>Senate</td>\n",
              "      <td>497</td>\n",
              "      <td>4</td>\n",
              "      <td>103</td>\n",
              "      <td>1</td>\n",
              "      <td>Hernandez</td>\n",
              "      <td>Ed</td>\n",
              "      <td>1485</td>\n",
              "      <td>1494</td>\n",
              "      <td>555</td>\n",
              "      <td>Current vote count is 9-3, and that bill is ou...</td>\n",
              "    </tr>\n",
              "    <tr>\n",
              "      <th>30859</th>\n",
              "      <td>2858</td>\n",
              "      <td>nMgNQIdoyHs</td>\n",
              "      <td>148</td>\n",
              "      <td>Public Health and Developmental Services</td>\n",
              "      <td>Senate</td>\n",
              "      <td>497</td>\n",
              "      <td>4</td>\n",
              "      <td>2998</td>\n",
              "      <td>4</td>\n",
              "      <td>Secretary</td>\n",
              "      <td>Committee</td>\n",
              "      <td>1494</td>\n",
              "      <td>1498</td>\n",
              "      <td>556</td>\n",
              "      <td>Anderson? Mitchell? (aye) Moorlach?</td>\n",
              "    </tr>\n",
              "    <tr>\n",
              "      <th>30860</th>\n",
              "      <td>2858</td>\n",
              "      <td>nMgNQIdoyHs</td>\n",
              "      <td>148</td>\n",
              "      <td>Public Health and Developmental Services</td>\n",
              "      <td>Senate</td>\n",
              "      <td>497</td>\n",
              "      <td>4</td>\n",
              "      <td>103</td>\n",
              "      <td>1</td>\n",
              "      <td>Hernandez</td>\n",
              "      <td>Ed</td>\n",
              "      <td>1504</td>\n",
              "      <td>1512</td>\n",
              "      <td>557</td>\n",
              "      <td>Current vote count is 9-2. That bill is out. I...</td>\n",
              "    </tr>\n",
              "    <tr>\n",
              "      <th>30861</th>\n",
              "      <td>2858</td>\n",
              "      <td>nMgNQIdoyHs</td>\n",
              "      <td>148</td>\n",
              "      <td>Public Health and Developmental Services</td>\n",
              "      <td>Senate</td>\n",
              "      <td>497</td>\n",
              "      <td>4</td>\n",
              "      <td>2998</td>\n",
              "      <td>4</td>\n",
              "      <td>Secretary</td>\n",
              "      <td>Committee</td>\n",
              "      <td>1512</td>\n",
              "      <td>1521</td>\n",
              "      <td>558</td>\n",
              "      <td>Morrell? (no) Anderson? Mitchell? (aye) 9-3.</td>\n",
              "    </tr>\n",
              "    <tr>\n",
              "      <th>30862</th>\n",
              "      <td>2858</td>\n",
              "      <td>nMgNQIdoyHs</td>\n",
              "      <td>148</td>\n",
              "      <td>Public Health and Developmental Services</td>\n",
              "      <td>Senate</td>\n",
              "      <td>497</td>\n",
              "      <td>4</td>\n",
              "      <td>103</td>\n",
              "      <td>1</td>\n",
              "      <td>Hernandez</td>\n",
              "      <td>Ed</td>\n",
              "      <td>1521</td>\n",
              "      <td>1529</td>\n",
              "      <td>559</td>\n",
              "      <td>Current vote count is 9-3, that bill is out. T...</td>\n",
              "    </tr>\n",
              "  </tbody>\n",
              "</table>\n",
              "<p>30863 rows × 15 columns</p>\n",
              "</div>"
            ],
            "text/plain": [
              "        vid  ...                                               text\n",
              "0      4527  ...  Go ahead and call the hearing to order, our sp...\n",
              "1      4527  ...  But also to the communities and it's had other...\n",
              "2      4527  ...  limited water resources are all challenges tha...\n",
              "3      4527  ...  And we've invited expert witnesses, who'll dis...\n",
              "4      4527  ...  Drought is certainly a critical issue for Cali...\n",
              "...     ...  ...                                                ...\n",
              "30858  2858  ...  Current vote count is 9-3, and that bill is ou...\n",
              "30859  2858  ...                Anderson? Mitchell? (aye) Moorlach?\n",
              "30860  2858  ...  Current vote count is 9-2. That bill is out. I...\n",
              "30861  2858  ...       Morrell? (no) Anderson? Mitchell? (aye) 9-3.\n",
              "30862  2858  ...  Current vote count is 9-3, that bill is out. T...\n",
              "\n",
              "[30863 rows x 15 columns]"
            ]
          },
          "metadata": {
            "tags": []
          },
          "execution_count": 2
        }
      ]
    },
    {
      "cell_type": "code",
      "metadata": {
        "id": "_ydIUy0B8x0n",
        "colab_type": "code",
        "outputId": "674dd8ba-dd64-4e78-acd7-1fe586a08dac",
        "colab": {
          "base_uri": "https://localhost:8080/",
          "height": 34
        }
      },
      "source": [
        "#Select a random 25% (1/4) of the content\n",
        "import random\n",
        "from pprint import pprint\n",
        "\n",
        "records = list(df.text)\n",
        "number_selected = len(records) // 16  #TODO CHANGE THIS VALUE TO 4\n",
        "selected_records = random.sample(records, number_selected) #get random sample of number_selected records without replacement\n",
        "\n",
        "utterances = [record for record in selected_records] #get all the utterance fields only (column #15) for clustering\n",
        "print(\"total number of points:\",len(utterances))"
      ],
      "execution_count": 87,
      "outputs": [
        {
          "output_type": "stream",
          "text": [
            "total number of points: 1928\n"
          ],
          "name": "stdout"
        }
      ]
    },
    {
      "cell_type": "code",
      "metadata": {
        "id": "b6vTjIgMv9mL",
        "colab_type": "code",
        "outputId": "89fb8498-32c2-4421-d616-a614c5162ec0",
        "colab": {
          "base_uri": "https://localhost:8080/",
          "height": 187
        }
      },
      "source": [
        "import nltk\n",
        "from nltk.stem import WordNetLemmatizer\n",
        "from nltk.tokenize import sent_tokenize, word_tokenize\n",
        "from nltk.corpus import stopwords \n",
        "from nltk.corpus import wordnet \n",
        "nltk.download('stopwords')\n",
        "nltk.download('punkt')\n",
        "nltk.download('wordnet')\n",
        "nltk.download('averaged_perceptron_tagger')\n",
        "\n",
        "wordnet_lemmatizer = WordNetLemmatizer()\n",
        "stop_words = set(stopwords.words('english')) \n",
        "punctuation = \"-!?;:\\\"\\'.,\"\n",
        "\n",
        "def getPOS(word):\n",
        "    \"\"\"Map POS tag to first character lemmatize() accepts\"\"\"\n",
        "    tag = nltk.pos_tag([word])[0][1][0].upper()\n",
        "    tag_dict = {\"J\": wordnet.ADJ,\n",
        "                \"N\": wordnet.NOUN,\n",
        "                \"V\": wordnet.VERB,\n",
        "                \"R\": wordnet.ADV}\n",
        "\n",
        "    return tag_dict.get(tag, wordnet.NOUN)\n",
        "\n",
        "def getFeatures(text):\n",
        "    features = {}\n",
        "    tokens = nltk.word_tokenize(text.lower())\n",
        "    tot_cnt = len(tokens)\n",
        "    for word in tokens:        \n",
        "        if word not in stop_words and word not in punctuation:\n",
        "            w = wordnet_lemmatizer.lemmatize(word, getPOS(word))\n",
        "            if w not in features:\n",
        "                features[w] = 1/float(tot_cnt)\n",
        "            else:\n",
        "                features[w] += 1/float(tot_cnt)\n",
        "    return features\n"
      ],
      "execution_count": 39,
      "outputs": [
        {
          "output_type": "stream",
          "text": [
            "[nltk_data] Downloading package stopwords to /root/nltk_data...\n",
            "[nltk_data]   Package stopwords is already up-to-date!\n",
            "[nltk_data] Downloading package punkt to /root/nltk_data...\n",
            "[nltk_data]   Package punkt is already up-to-date!\n",
            "[nltk_data] Downloading package wordnet to /root/nltk_data...\n",
            "[nltk_data]   Package wordnet is already up-to-date!\n",
            "[nltk_data] Downloading package averaged_perceptron_tagger to\n",
            "[nltk_data]     /root/nltk_data...\n",
            "[nltk_data]   Package averaged_perceptron_tagger is already up-to-\n",
            "[nltk_data]       date!\n"
          ],
          "name": "stdout"
        }
      ]
    },
    {
      "cell_type": "code",
      "metadata": {
        "id": "jeplhng0GzrP",
        "colab_type": "code",
        "colab": {
          "base_uri": "https://localhost:8080/",
          "height": 68
        },
        "outputId": "c0ac72ef-d25e-4976-be20-b35f71e51d0c"
      },
      "source": [
        "data = df['text']\n",
        "data = data[:2]\n",
        "\n",
        "getFeatures(data[0])\n",
        "data"
      ],
      "execution_count": 52,
      "outputs": [
        {
          "output_type": "execute_result",
          "data": {
            "text/plain": [
              "0    Go ahead and call the hearing to order, our sp...\n",
              "1    But also to the communities and it's had other...\n",
              "Name: text, dtype: object"
            ]
          },
          "metadata": {
            "tags": []
          },
          "execution_count": 52
        }
      ]
    },
    {
      "cell_type": "code",
      "metadata": {
        "id": "vvjVUJ-1B0Yt",
        "colab_type": "code",
        "colab": {}
      },
      "source": [
        "import numpy as np\n",
        "import random, sys\n",
        "from collections import Counter\n",
        "\n",
        "max_t = 2   # max itterations (ignores threshold) (-1 to unset)\n",
        "k = 2\n",
        "M = []\n",
        "M.append([0 for i in range(0, k)])\n",
        "\n",
        "def initCentroids(vec_data, k):\n",
        "    centroidID = np.random.permutation(len(vec_data))[:k]\n",
        "    return [id for id in centroidID]\n",
        "\n",
        "def calculateDistance(v_dict, u_dict):\n",
        "    v = list(v_dict.values())\n",
        "    u = list(u_dict.values())\n",
        "    total = 0\n",
        "    for i in range(0, len(v)):\n",
        "        total += ((v[i] - u[i]) ** 2)\n",
        "    return np.sqrt(total)\n",
        "\n",
        "\n",
        "# takes a vector dictionary and a set of all the keys\n",
        "# returns a new vector dictionary with all the keys\n",
        "def reshapeVectDict(vect_dict, keys):\n",
        "    old_shape = len(vect_dict)\n",
        "    for key in keys:\n",
        "        if key not in vect_dict:\n",
        "            vect_dict[key] = 0.0\n",
        "    return vect_dict\n",
        "\n",
        "# For a given point, find the closest centroid from the list, return centroid's index\n",
        "def closestCentroid(point, centroids):\n",
        "    # Get all the keys (words) in the point and centroids\n",
        "    # This will be used to transform them to the same dimension so we can do math\n",
        "    all_keys = []\n",
        "    all_keys.extend(point)        \n",
        "    for centroid in centroids:        \n",
        "        all_keys.extend(centroid.keys())\n",
        "    all_keys = set(all_keys)\n",
        "\n",
        "    closestCentroid = 0\n",
        "    minDist = sys.maxsize\n",
        "    point_reshape = reshapeVectDict(point, all_keys)\n",
        "\n",
        "    for centroid in centroids:\n",
        "        centroid_reshape = reshapeVectDict(centroid, all_keys)\n",
        "        dist = calculateDistance(point_reshape, centroid_reshape)\n",
        "\n",
        "        if (dist < minDist):\n",
        "            minDist = dist\n",
        "            closestCentroid = centroids.index(centroid)\n",
        "\n",
        "    return closestCentroid\n",
        "\n",
        "\n",
        "def k_means(vec_data, k, e):\n",
        "    t = 0\n",
        "    M[t] = initCentroids(vec_data, k)\n",
        "\n",
        "    if max_t >= 0:        \n",
        "        while (t < max_t):\n",
        "            t += 1\n",
        "            C = []\n",
        "            for i in range(0, k):\n",
        "                C.append([])\n",
        "            # Centroid assignment\n",
        "            for point in vec_data:\n",
        "                clusterID = closestCentroid(point, M[t])\n",
        "                "
      ],
      "execution_count": 0,
      "outputs": []
    },
    {
      "cell_type": "code",
      "metadata": {
        "id": "lZ3OgENFOWNu",
        "colab_type": "code",
        "colab": {}
      },
      "source": [
        "data = selected_records\n",
        "vec_data = [getFeatures(text) for text in data]"
      ],
      "execution_count": 0,
      "outputs": []
    },
    {
      "cell_type": "code",
      "metadata": {
        "id": "VZwBUJtFQ1mQ",
        "colab_type": "code",
        "colab": {}
      },
      "source": [
        "k_means(vec_data, 2, 1)"
      ],
      "execution_count": 0,
      "outputs": []
    },
    {
      "cell_type": "code",
      "metadata": {
        "id": "6rJ6DP1OSnTo",
        "colab_type": "code",
        "colab": {
          "base_uri": "https://localhost:8080/",
          "height": 34
        },
        "outputId": "6cbd619b-e6ac-4529-c970-3b59e1a680b1"
      },
      "source": [
        "# M holds the centroid IDs\n",
        "M"
      ],
      "execution_count": 91,
      "outputs": [
        {
          "output_type": "execute_result",
          "data": {
            "text/plain": [
              "[[1609, 48]]"
            ]
          },
          "metadata": {
            "tags": []
          },
          "execution_count": 91
        }
      ]
    },
    {
      "cell_type": "code",
      "metadata": {
        "id": "aPOirMu7TBO8",
        "colab_type": "code",
        "colab": {
          "base_uri": "https://localhost:8080/",
          "height": 357
        },
        "outputId": "2dbde801-e829-4941-d868-6c456880be9f"
      },
      "source": [
        "# vec_data contains all the vectorized data\n",
        "# initialize centroids\n",
        "centroids = [vec_data[c] for c in initCentroids(vec_data, 2)]\n",
        "pprint(centroids)"
      ],
      "execution_count": 204,
      "outputs": [
        {
          "output_type": "stream",
          "text": [
            "[{'7-0': 0.14285714285714285, 'bill': 0.14285714285714285},\n",
            " {\"'re\": 0.02564102564102564,\n",
            "  'also': 0.02564102564102564,\n",
            "  'bill': 0.05128205128205128,\n",
            "  'california': 0.02564102564102564,\n",
            "  'coalition': 0.02564102564102564,\n",
            "  'cosponsor': 0.02564102564102564,\n",
            "  'create': 0.02564102564102564,\n",
            "  'de': 0.02564102564102564,\n",
            "  'healthy': 0.02564102564102564,\n",
            "  'incentive': 0.02564102564102564,\n",
            "  'la': 0.02564102564102564,\n",
            "  'latino': 0.02564102564102564,\n",
            "  'nutrition': 0.02564102564102564,\n",
            "  'program': 0.05128205128205128,\n",
            "  'rebecca': 0.02564102564102564,\n",
            "  'rosa': 0.02564102564102564,\n",
            "  'strong': 0.02564102564102564,\n",
            "  'support': 0.02564102564102564,\n",
            "  'would': 0.02564102564102564}]\n"
          ],
          "name": "stdout"
        }
      ]
    },
    {
      "cell_type": "code",
      "metadata": {
        "id": "jB-b4nFfYp3C",
        "colab_type": "code",
        "colab": {
          "base_uri": "https://localhost:8080/",
          "height": 156
        },
        "outputId": "4d0e481e-76e4-44c1-e40b-d873702ae18b"
      },
      "source": [
        "point = vec_data[0]\n",
        "\n",
        "centroidID = closestCentroid(point, centroids)\n",
        "print(\"point is closest to the centroid, \", centroidID)\n",
        "print(\"point: \")\n",
        "print(point)\n",
        "print(\"closest centroid: \")\n",
        "print(centroids[centroidID])\n",
        "print(\"other centroids: \")\n",
        "print([c for c in centroids if not centroids.index(c) == centroidID])"
      ],
      "execution_count": 212,
      "outputs": [
        {
          "output_type": "stream",
          "text": [
            "point is closest to the centroid,  1\n",
            "point: \n",
            "{'family': 0.020833333333333332, 'school': 0.020833333333333332, 'program': 0.020833333333333332, 'allows': 0.020833333333333332, 'job': 0.020833333333333332, 'integrate': 0.020833333333333332, 'community': 0.041666666666666664, 'immigrant': 0.020833333333333332, 'low': 0.020833333333333332, 'income': 0.020833333333333332, 'like': 0.020833333333333332, \"'s\": 0.020833333333333332, 'really': 0.020833333333333332, 'important': 0.020833333333333332, 'able': 0.020833333333333332, 'get': 0.020833333333333332, 'poverty': 0.020833333333333332, 'thank': 0.020833333333333332, 'much': 0.020833333333333332, \"'ve\": 0.0, 'a': 0.0, 'b': 0.0, 'c': 0.0, 'kind': 0.0, 'continue': 0.0, 'ensures': 0.0, 'health': 0.0, '50': 0.0, 'four': 0.0, 'experienced': 0.0, 'aye': 0.0, 'many': 0.0, 'reason': 0.0, 'support': 0.0, 'regional': 0.0, 'attention': 0.0, 'think': 0.0, 'na': 0.0, 'provide': 0.0, 'economically': 0.0, 'sure': 0.0, 'people': 0.0, 'respectfully': 0.0, 'scope': 0.0, 'ability': 0.0, 'gorosby': 0.0, 'infrastructure': 0.0, 'though': 0.0, 'suffer': 0.0, 'funding': 0.0, 'valley': 0.0, 'type': 0.0, 'already': 0.0, 'invests': 0.0, 'conduct': 0.0, 'make': 0.0, 'disease': 0.0, 'answer': 0.0, 'institute': 0.0, 'even': 0.0, 'today': 0.0, 'fever': 0.0, 'thing': 0.0, 'nile': 0.0, 'receive': 0.0, 'example': 0.0, 'part': 0.0, 'ailment': 0.0, 'national': 0.0, 'west': 0.0, 'virus': 0.0, 'strike': 0.0, 'wan': 0.0, 'water': 0.0, 'emily': 0.0, 'time': 0.0, 'protection': 0.0, 'research': 0.0, 'child': 0.0, 'greatly': 0.0, 'ask': 0.0, 'resource': 0.0, 'good': 0.0, 'state': 0.0, 'vote': 0.0, 'obtain': 0.0, 'viable': 0.0, 'receives': 0.0, 'coalition': 0.0, 'rebecca': 0.0, 'rosa': 0.0, 'la': 0.0, 'healthy': 0.0, 'create': 0.0, 'incentive': 0.0, 'bill': 0.0, 'california': 0.0, \"'re\": 0.0, '7-0': 0.0, 'de': 0.0, 'would': 0.0, 'latino': 0.0, 'strong': 0.0, 'also': 0.0, 'nutrition': 0.0, 'cosponsor': 0.0}\n",
            "closest centroid: \n",
            "{'rebecca': 0.02564102564102564, 'de': 0.02564102564102564, 'la': 0.02564102564102564, 'rosa': 0.02564102564102564, 'latino': 0.02564102564102564, 'coalition': 0.02564102564102564, 'healthy': 0.02564102564102564, 'california': 0.02564102564102564, 'also': 0.02564102564102564, 'cosponsor': 0.02564102564102564, 'bill': 0.05128205128205128, \"'re\": 0.02564102564102564, 'strong': 0.02564102564102564, 'support': 0.02564102564102564, 'program': 0.05128205128205128, 'nutrition': 0.02564102564102564, 'incentive': 0.02564102564102564, 'would': 0.02564102564102564, 'create': 0.02564102564102564, 'continue': 0.0, 'really': 0.0, 'four': 0.0, 'able': 0.0, 'many': 0.0, 'provide': 0.0, 'sure': 0.0, 'people': 0.0, 'allows': 0.0, 'make': 0.0, 'valley': 0.0, 'integrate': 0.0, 'much': 0.0, 'today': 0.0, 'fever': 0.0, 'part': 0.0, 'ailment': 0.0, 'virus': 0.0, 'thank': 0.0, 'school': 0.0, 'research': 0.0, 'greatly': 0.0, 'state': 0.0, 'obtain': 0.0, 'viable': 0.0, 'health': 0.0, '50': 0.0, 'reason': 0.0, 'think': 0.0, 'economically': 0.0, 'poverty': 0.0, 'funding': 0.0, 'already': 0.0, 'important': 0.0, 'disease': 0.0, 'answer': 0.0, 'get': 0.0, 'water': 0.0, 'nile': 0.0, \"'s\": 0.0, 'time': 0.0, 'protection': 0.0, 'income': 0.0, 'good': 0.0, 'vote': 0.0, 'low': 0.0, 'ensures': 0.0, 'experienced': 0.0, 'regional': 0.0, 'attention': 0.0, 'community': 0.0, '7-0': 0.0, 'scope': 0.0, 'gorosby': 0.0, 'though': 0.0, 'suffer': 0.0, 'type': 0.0, 'job': 0.0, 'invests': 0.0, 'conduct': 0.0, 'a': 0.0, 'institute': 0.0, 'even': 0.0, 'thing': 0.0, 'ability': 0.0, 'receive': 0.0, 'wan': 0.0, 'national': 0.0, 'resource': 0.0, 'like': 0.0, 'receives': 0.0, 'kind': 0.0, \"'ve\": 0.0, 'aye': 0.0, 'na': 0.0, 'respectfully': 0.0, 'infrastructure': 0.0, 'b': 0.0, 'family': 0.0, 'example': 0.0, 'west': 0.0, 'strike': 0.0, 'immigrant': 0.0, 'emily': 0.0, 'ask': 0.0, 'child': 0.0, 'c': 0.0}\n",
            "other centroids: \n",
            "[{'7-0': 0.14285714285714285, 'bill': 0.14285714285714285, 'continue': 0.0, 'coalition': 0.0, 'rebecca': 0.0, 'really': 0.0, 'four': 0.0, 'able': 0.0, 'many': 0.0, 'provide': 0.0, 'program': 0.0, 'rosa': 0.0, 'sure': 0.0, 'people': 0.0, 'allows': 0.0, 'make': 0.0, 'valley': 0.0, 'integrate': 0.0, 'much': 0.0, 'today': 0.0, 'fever': 0.0, 'la': 0.0, 'part': 0.0, 'ailment': 0.0, 'virus': 0.0, 'thank': 0.0, 'healthy': 0.0, 'school': 0.0, 'research': 0.0, 'greatly': 0.0, 'create': 0.0, 'state': 0.0, 'obtain': 0.0, 'viable': 0.0, 'health': 0.0, '50': 0.0, 'reason': 0.0, 'think': 0.0, 'incentive': 0.0, 'economically': 0.0, 'poverty': 0.0, 'funding': 0.0, 'already': 0.0, 'important': 0.0, 'disease': 0.0, 'answer': 0.0, 'get': 0.0, 'water': 0.0, 'nile': 0.0, \"'s\": 0.0, 'california': 0.0, 'time': 0.0, 'protection': 0.0, 'income': 0.0, 'good': 0.0, 'vote': 0.0, 'low': 0.0, \"'re\": 0.0, 'ensures': 0.0, 'experienced': 0.0, 'regional': 0.0, 'attention': 0.0, 'community': 0.0, 'scope': 0.0, 'gorosby': 0.0, 'though': 0.0, 'suffer': 0.0, 'type': 0.0, 'job': 0.0, 'invests': 0.0, 'conduct': 0.0, 'a': 0.0, 'institute': 0.0, 'even': 0.0, 'thing': 0.0, 'ability': 0.0, 'receive': 0.0, 'wan': 0.0, 'national': 0.0, 'de': 0.0, 'resource': 0.0, 'would': 0.0, 'like': 0.0, 'receives': 0.0, 'kind': 0.0, \"'ve\": 0.0, 'aye': 0.0, 'support': 0.0, 'na': 0.0, 'respectfully': 0.0, 'infrastructure': 0.0, 'b': 0.0, 'family': 0.0, 'latino': 0.0, 'example': 0.0, 'west': 0.0, 'strike': 0.0, 'immigrant': 0.0, 'strong': 0.0, 'emily': 0.0, 'also': 0.0, 'nutrition': 0.0, 'cosponsor': 0.0, 'ask': 0.0, 'child': 0.0, 'c': 0.0}]\n"
          ],
          "name": "stdout"
        }
      ]
    },
    {
      "cell_type": "code",
      "metadata": {
        "id": "ESXiB3rm0sZW",
        "colab_type": "code",
        "colab": {
          "base_uri": "https://localhost:8080/",
          "height": 34
        },
        "outputId": "18dfc201-820e-4ff7-ec2b-79cb34f77c07"
      },
      "source": [
        "total = 0\n",
        "total += (1 - 2) ** 2\n",
        "total"
      ],
      "execution_count": 197,
      "outputs": [
        {
          "output_type": "execute_result",
          "data": {
            "text/plain": [
              "1"
            ]
          },
          "metadata": {
            "tags": []
          },
          "execution_count": 197
        }
      ]
    },
    {
      "cell_type": "code",
      "metadata": {
        "id": "N6k8UVeEvavv",
        "colab_type": "code",
        "colab": {}
      },
      "source": [
        ""
      ],
      "execution_count": 0,
      "outputs": []
    },
    {
      "cell_type": "code",
      "metadata": {
        "id": "8a9hIrOybb1n",
        "colab_type": "code",
        "colab": {
          "base_uri": "https://localhost:8080/",
          "height": 54
        },
        "outputId": "94d0ce60-ac59-422c-87b0-8706af2e34f5"
      },
      "source": [
        "\n",
        "# Python program to combine two dictionary \n",
        "# adding values for common keys \n",
        "from collections import Counter   \n",
        "  \n",
        "# adding the values with common key \n",
        "          \n",
        "Cdict = Counter(dict_1) + Counter(dict_2) \n",
        "print(Cdict)"
      ],
      "execution_count": 101,
      "outputs": [
        {
          "output_type": "stream",
          "text": [
            "Counter({'get': 0.13194444444444445, 'thank': 0.13194444444444445, \"'ve\": 0.1111111111111111, 'community': 0.041666666666666664, 'family': 0.020833333333333332, 'school': 0.020833333333333332, 'program': 0.020833333333333332, 'allows': 0.020833333333333332, 'job': 0.020833333333333332, 'integrate': 0.020833333333333332, 'immigrant': 0.020833333333333332, 'low': 0.020833333333333332, 'income': 0.020833333333333332, 'like': 0.020833333333333332, \"'s\": 0.020833333333333332, 'really': 0.020833333333333332, 'important': 0.020833333333333332, 'able': 0.020833333333333332, 'poverty': 0.020833333333333332, 'much': 0.020833333333333332})\n"
          ],
          "name": "stdout"
        }
      ]
    },
    {
      "cell_type": "code",
      "metadata": {
        "id": "-z4CysGYpjU2",
        "colab_type": "code",
        "colab": {
          "base_uri": "https://localhost:8080/",
          "height": 51
        },
        "outputId": "0a4e532b-6592-4824-b49a-b3daa05fded7"
      },
      "source": [
        "keys = ['a','b','c']\n",
        "dict_2 = {i:0 for i in keys}\n",
        "print(dict_2)\n",
        "dict_1 = {}\n",
        "dict_1['a'] = 23\n",
        "\n",
        "Cdict = Counter(dict_1) + Counter(dict_2) \n",
        "Cdict"
      ],
      "execution_count": 127,
      "outputs": [
        {
          "output_type": "stream",
          "text": [
            "{'a': 0, 'b': 0, 'c': 0}\n"
          ],
          "name": "stdout"
        },
        {
          "output_type": "execute_result",
          "data": {
            "text/plain": [
              "Counter({'a': 23})"
            ]
          },
          "metadata": {
            "tags": []
          },
          "execution_count": 127
        }
      ]
    },
    {
      "cell_type": "code",
      "metadata": {
        "id": "ozt3ynsUeCl1",
        "colab_type": "code",
        "colab": {
          "base_uri": "https://localhost:8080/",
          "height": 139
        },
        "outputId": "4d3a27fb-23b2-467b-d048-0091d0a3f78e"
      },
      "source": [
        "all_keys = []\n",
        "for centroid in centroids:\n",
        "    all_keys.extend(centroid.keys())\n",
        "all_keys = set(all_keys)\n",
        "\n",
        "vec1 = []\n",
        "vec2 = []\n",
        "for key in all_keys:\n",
        "    if key not in dict_1:\n",
        "        vec1.append(0)\n",
        "    else:\n",
        "        vec1.append(dict_1[key])\n",
        "    if key not in dict_2:\n",
        "        vec2.append(0)\n",
        "    else:\n",
        "        vec2.append(dict_2[key])\n",
        "\n",
        "print(vec1)\n",
        "print(vec2)\n",
        "a = np.matrix(vec1)\n",
        "b = np.matrix(vec2)\n",
        "ret = a - b\n",
        "print(ret)"
      ],
      "execution_count": 114,
      "outputs": [
        {
          "output_type": "stream",
          "text": [
            "[0.020833333333333332, 0.0, 0.020833333333333332, 0.020833333333333332, 0.020833333333333332, 0.020833333333333332, 0.020833333333333332, 0.041666666666666664, 0.020833333333333332, 0.020833333333333332, 0.020833333333333332, 0.020833333333333332, 0.020833333333333332, 0.020833333333333332, 0.020833333333333332, 0.020833333333333332, 0.020833333333333332, 0.020833333333333332, 0.020833333333333332, 0.020833333333333332]\n",
            "[0.1111111111111111, 0.1111111111111111, 0.0, 0.0, 0.0, 0.0, 0.0, 0.0, 0.1111111111111111, 0.0, 0.0, 0.0, 0.0, 0.0, 0.0, 0.0, 0.0, 0.0, 0.0, 0.0]\n",
            "[[-0.09027778 -0.11111111  0.02083333  0.02083333  0.02083333  0.02083333\n",
            "   0.02083333  0.04166667 -0.09027778  0.02083333  0.02083333  0.02083333\n",
            "   0.02083333  0.02083333  0.02083333  0.02083333  0.02083333  0.02083333\n",
            "   0.02083333  0.02083333]]\n"
          ],
          "name": "stdout"
        }
      ]
    },
    {
      "cell_type": "code",
      "metadata": {
        "id": "1Wg7W21ofOdM",
        "colab_type": "code",
        "colab": {
          "base_uri": "https://localhost:8080/",
          "height": 51
        },
        "outputId": "c4b77c75-77e8-4bc2-fbb1-d8c7752789e5"
      },
      "source": [
        "# Python Program illustrating  \n",
        "# numpy.mean() method    \n",
        "import numpy as np \n",
        "    \n",
        "  \n",
        "# 2D array  \n",
        "arr = [[2,10],   \n",
        "       [2,10]]\n",
        "       \n",
        "    \n",
        "# mean of the flattened array  \n",
        "print(\"\\nmean of arr, axis = None : \", np.mean(arr))  "
      ],
      "execution_count": 116,
      "outputs": [
        {
          "output_type": "stream",
          "text": [
            "\n",
            "mean of arr, axis = None :  6.0\n"
          ],
          "name": "stdout"
        }
      ]
    }
  ]
}